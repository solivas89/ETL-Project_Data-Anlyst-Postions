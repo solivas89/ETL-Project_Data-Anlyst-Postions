{
 "cells": [
  {
   "cell_type": "code",
   "execution_count": 30,
   "metadata": {},
   "outputs": [],
   "source": [
    "import pandas as pd\n",
    "from sqlalchemy import create_engine\n",
    "import numpy as np"
   ]
  },
  {
   "cell_type": "code",
   "execution_count": 31,
   "metadata": {},
   "outputs": [
    {
     "data": {
      "text/html": [
       "<div>\n",
       "<style scoped>\n",
       "    .dataframe tbody tr th:only-of-type {\n",
       "        vertical-align: middle;\n",
       "    }\n",
       "\n",
       "    .dataframe tbody tr th {\n",
       "        vertical-align: top;\n",
       "    }\n",
       "\n",
       "    .dataframe thead th {\n",
       "        text-align: right;\n",
       "    }\n",
       "</style>\n",
       "<table border=\"1\" class=\"dataframe\">\n",
       "  <thead>\n",
       "    <tr style=\"text-align: right;\">\n",
       "      <th></th>\n",
       "      <th>position</th>\n",
       "      <th>company</th>\n",
       "      <th>description</th>\n",
       "      <th>numreview</th>\n",
       "      <th>location</th>\n",
       "    </tr>\n",
       "  </thead>\n",
       "  <tbody>\n",
       "    <tr>\n",
       "      <th>0</th>\n",
       "      <td>Institutional Review Board Analyst I - Office ...</td>\n",
       "      <td>USC</td>\n",
       "      <td>&lt;span id=\"job_summary\" class=\"summary\"&gt;&lt;div&gt;&lt;p...</td>\n",
       "      <td>545 reviews</td>\n",
       "      <td>Los Angeles, CA</td>\n",
       "    </tr>\n",
       "    <tr>\n",
       "      <th>1</th>\n",
       "      <td>Analyst - Optimization</td>\n",
       "      <td>The Boston Consulting Group</td>\n",
       "      <td>&lt;span id=\"job_summary\" class=\"summary\"&gt;&lt;div&gt;&lt;b...</td>\n",
       "      <td>198 reviews</td>\n",
       "      <td>Los Angeles, CA</td>\n",
       "    </tr>\n",
       "    <tr>\n",
       "      <th>2</th>\n",
       "      <td>Postdoctoral Research Associate</td>\n",
       "      <td>USC</td>\n",
       "      <td>&lt;span id=\"job_summary\" class=\"summary\"&gt;&lt;div&gt;&lt;p...</td>\n",
       "      <td>545 reviews</td>\n",
       "      <td>Los Angeles, CA</td>\n",
       "    </tr>\n",
       "    <tr>\n",
       "      <th>3</th>\n",
       "      <td>Research Analyst</td>\n",
       "      <td>SHIELDS for Families, Inc.</td>\n",
       "      <td>&lt;span id=\"job_summary\" class=\"summary\"&gt;&lt;b&gt;SUMM...</td>\n",
       "      <td>48 reviews</td>\n",
       "      <td>Los Angeles, CA 90002</td>\n",
       "    </tr>\n",
       "    <tr>\n",
       "      <th>4</th>\n",
       "      <td>Additive Materials and Process Scientist</td>\n",
       "      <td>Divergent 3D</td>\n",
       "      <td>&lt;span id=\"job_summary\" class=\"summary\"&gt;&lt;div&gt;&lt;d...</td>\n",
       "      <td>NaN</td>\n",
       "      <td>Los Angeles, CA</td>\n",
       "    </tr>\n",
       "  </tbody>\n",
       "</table>\n",
       "</div>"
      ],
      "text/plain": [
       "                                            position  \\\n",
       "0  Institutional Review Board Analyst I - Office ...   \n",
       "1                             Analyst - Optimization   \n",
       "2                    Postdoctoral Research Associate   \n",
       "3                                   Research Analyst   \n",
       "4           Additive Materials and Process Scientist   \n",
       "\n",
       "                       company  \\\n",
       "0                          USC   \n",
       "1  The Boston Consulting Group   \n",
       "2                          USC   \n",
       "3   SHIELDS for Families, Inc.   \n",
       "4                 Divergent 3D   \n",
       "\n",
       "                                         description    numreview  \\\n",
       "0  <span id=\"job_summary\" class=\"summary\"><div><p...  545 reviews   \n",
       "1  <span id=\"job_summary\" class=\"summary\"><div><b...  198 reviews   \n",
       "2  <span id=\"job_summary\" class=\"summary\"><div><p...  545 reviews   \n",
       "3  <span id=\"job_summary\" class=\"summary\"><b>SUMM...   48 reviews   \n",
       "4  <span id=\"job_summary\" class=\"summary\"><div><d...          NaN   \n",
       "\n",
       "                location  \n",
       "0        Los Angeles, CA  \n",
       "1        Los Angeles, CA  \n",
       "2        Los Angeles, CA  \n",
       "3  Los Angeles, CA 90002  \n",
       "4        Los Angeles, CA  "
      ]
     },
     "execution_count": 31,
     "metadata": {},
     "output_type": "execute_result"
    }
   ],
   "source": [
    "csv_file = \"../ETL-Project_Data-Anlyst-Postions/fulltimeLA.csv\"\n",
    "LA_data_df = pd.read_csv(csv_file)\n",
    "LA_data_df.head()"
   ]
  },
  {
   "cell_type": "code",
   "execution_count": 32,
   "metadata": {},
   "outputs": [
    {
     "data": {
      "text/plain": [
       "0      True\n",
       "1      True\n",
       "2      True\n",
       "3      True\n",
       "4      True\n",
       "       ... \n",
       "249    True\n",
       "250    True\n",
       "251    True\n",
       "252    True\n",
       "253    True\n",
       "Name: location, Length: 254, dtype: bool"
      ]
     },
     "execution_count": 32,
     "metadata": {},
     "output_type": "execute_result"
    }
   ],
   "source": [
    "clean_LA = LA_data_df\n",
    "loca = LA_data_df['location']\n",
    "LA = loca.str.contains('Los Angeles, CA')\n",
    "LA"
   ]
  },
  {
   "cell_type": "code",
   "execution_count": 34,
   "metadata": {},
   "outputs": [],
   "source": [
    "LA_data_df['location'] = np.where(LA, 'Los Angeles, CA',\n",
    "                                               loca.str.replace('-', ' '))\n"
   ]
  },
  {
   "cell_type": "code",
   "execution_count": 36,
   "metadata": {
    "scrolled": true
   },
   "outputs": [
    {
     "data": {
      "text/html": [
       "<div>\n",
       "<style scoped>\n",
       "    .dataframe tbody tr th:only-of-type {\n",
       "        vertical-align: middle;\n",
       "    }\n",
       "\n",
       "    .dataframe tbody tr th {\n",
       "        vertical-align: top;\n",
       "    }\n",
       "\n",
       "    .dataframe thead th {\n",
       "        text-align: right;\n",
       "    }\n",
       "</style>\n",
       "<table border=\"1\" class=\"dataframe\">\n",
       "  <thead>\n",
       "    <tr style=\"text-align: right;\">\n",
       "      <th></th>\n",
       "      <th>position</th>\n",
       "      <th>company</th>\n",
       "      <th>numreview</th>\n",
       "      <th>location</th>\n",
       "    </tr>\n",
       "  </thead>\n",
       "  <tbody>\n",
       "    <tr>\n",
       "      <th>0</th>\n",
       "      <td>Institutional Review Board Analyst I - Office ...</td>\n",
       "      <td>USC</td>\n",
       "      <td>545 reviews</td>\n",
       "      <td>Los Angeles, CA</td>\n",
       "    </tr>\n",
       "    <tr>\n",
       "      <th>1</th>\n",
       "      <td>Analyst - Optimization</td>\n",
       "      <td>The Boston Consulting Group</td>\n",
       "      <td>198 reviews</td>\n",
       "      <td>Los Angeles, CA</td>\n",
       "    </tr>\n",
       "    <tr>\n",
       "      <th>2</th>\n",
       "      <td>Postdoctoral Research Associate</td>\n",
       "      <td>USC</td>\n",
       "      <td>545 reviews</td>\n",
       "      <td>Los Angeles, CA</td>\n",
       "    </tr>\n",
       "    <tr>\n",
       "      <th>3</th>\n",
       "      <td>Research Analyst</td>\n",
       "      <td>SHIELDS for Families, Inc.</td>\n",
       "      <td>48 reviews</td>\n",
       "      <td>Los Angeles, CA</td>\n",
       "    </tr>\n",
       "    <tr>\n",
       "      <th>4</th>\n",
       "      <td>Additive Materials and Process Scientist</td>\n",
       "      <td>Divergent 3D</td>\n",
       "      <td>NaN</td>\n",
       "      <td>Los Angeles, CA</td>\n",
       "    </tr>\n",
       "  </tbody>\n",
       "</table>\n",
       "</div>"
      ],
      "text/plain": [
       "                                            position  \\\n",
       "0  Institutional Review Board Analyst I - Office ...   \n",
       "1                             Analyst - Optimization   \n",
       "2                    Postdoctoral Research Associate   \n",
       "3                                   Research Analyst   \n",
       "4           Additive Materials and Process Scientist   \n",
       "\n",
       "                       company    numreview         location  \n",
       "0                          USC  545 reviews  Los Angeles, CA  \n",
       "1  The Boston Consulting Group  198 reviews  Los Angeles, CA  \n",
       "2                          USC  545 reviews  Los Angeles, CA  \n",
       "3   SHIELDS for Families, Inc.   48 reviews  Los Angeles, CA  \n",
       "4                 Divergent 3D          NaN  Los Angeles, CA  "
      ]
     },
     "execution_count": 36,
     "metadata": {},
     "output_type": "execute_result"
    }
   ],
   "source": [
    "new_LA_data_df = LA_data_df[['position', 'company', 'numreview','location']].copy()\n",
    "new_LA_data_df.head()"
   ]
  },
  {
   "cell_type": "code",
   "execution_count": 37,
   "metadata": {},
   "outputs": [],
   "source": [
    "rds_connection_string = \"project:project@localhost:5432/etl_project_db\"\n",
    "engine = create_engine(f'postgresql://{rds_connection_string}')"
   ]
  },
  {
   "cell_type": "code",
   "execution_count": 38,
   "metadata": {},
   "outputs": [
    {
     "data": {
      "text/plain": [
       "[]"
      ]
     },
     "execution_count": 38,
     "metadata": {},
     "output_type": "execute_result"
    }
   ],
   "source": [
    "engine.table_names()"
   ]
  },
  {
   "cell_type": "code",
   "execution_count": 39,
   "metadata": {},
   "outputs": [],
   "source": [
    "new_LA_data_df.to_sql(name='position', con=engine, if_exists='append', index=False)"
   ]
  },
  {
   "cell_type": "code",
   "execution_count": 40,
   "metadata": {},
   "outputs": [],
   "source": [
    "new_LA_data_df.to_sql(name='company', con=engine, if_exists='append', index=False)"
   ]
  },
  {
   "cell_type": "code",
   "execution_count": 41,
   "metadata": {},
   "outputs": [],
   "source": [
    "new_LA_data_df.to_sql(name='numreview', con=engine, if_exists='append', index=False)"
   ]
  },
  {
   "cell_type": "code",
   "execution_count": 42,
   "metadata": {},
   "outputs": [],
   "source": [
    "new_LA_data_df.to_sql(name='location', con=engine, if_exists='append', index=False)"
   ]
  },
  {
   "cell_type": "code",
   "execution_count": 43,
   "metadata": {},
   "outputs": [
    {
     "data": {
      "text/html": [
       "<div>\n",
       "<style scoped>\n",
       "    .dataframe tbody tr th:only-of-type {\n",
       "        vertical-align: middle;\n",
       "    }\n",
       "\n",
       "    .dataframe tbody tr th {\n",
       "        vertical-align: top;\n",
       "    }\n",
       "\n",
       "    .dataframe thead th {\n",
       "        text-align: right;\n",
       "    }\n",
       "</style>\n",
       "<table border=\"1\" class=\"dataframe\">\n",
       "  <thead>\n",
       "    <tr style=\"text-align: right;\">\n",
       "      <th></th>\n",
       "      <th>position</th>\n",
       "      <th>company</th>\n",
       "      <th>numreview</th>\n",
       "      <th>location</th>\n",
       "    </tr>\n",
       "  </thead>\n",
       "  <tbody>\n",
       "    <tr>\n",
       "      <th>0</th>\n",
       "      <td>Institutional Review Board Analyst I - Office ...</td>\n",
       "      <td>USC</td>\n",
       "      <td>545 reviews</td>\n",
       "      <td>Los Angeles, CA</td>\n",
       "    </tr>\n",
       "    <tr>\n",
       "      <th>1</th>\n",
       "      <td>Analyst - Optimization</td>\n",
       "      <td>The Boston Consulting Group</td>\n",
       "      <td>198 reviews</td>\n",
       "      <td>Los Angeles, CA</td>\n",
       "    </tr>\n",
       "    <tr>\n",
       "      <th>2</th>\n",
       "      <td>Postdoctoral Research Associate</td>\n",
       "      <td>USC</td>\n",
       "      <td>545 reviews</td>\n",
       "      <td>Los Angeles, CA</td>\n",
       "    </tr>\n",
       "    <tr>\n",
       "      <th>3</th>\n",
       "      <td>Research Analyst</td>\n",
       "      <td>SHIELDS for Families, Inc.</td>\n",
       "      <td>48 reviews</td>\n",
       "      <td>Los Angeles, CA</td>\n",
       "    </tr>\n",
       "    <tr>\n",
       "      <th>4</th>\n",
       "      <td>Additive Materials and Process Scientist</td>\n",
       "      <td>Divergent 3D</td>\n",
       "      <td>None</td>\n",
       "      <td>Los Angeles, CA</td>\n",
       "    </tr>\n",
       "  </tbody>\n",
       "</table>\n",
       "</div>"
      ],
      "text/plain": [
       "                                            position  \\\n",
       "0  Institutional Review Board Analyst I - Office ...   \n",
       "1                             Analyst - Optimization   \n",
       "2                    Postdoctoral Research Associate   \n",
       "3                                   Research Analyst   \n",
       "4           Additive Materials and Process Scientist   \n",
       "\n",
       "                       company    numreview         location  \n",
       "0                          USC  545 reviews  Los Angeles, CA  \n",
       "1  The Boston Consulting Group  198 reviews  Los Angeles, CA  \n",
       "2                          USC  545 reviews  Los Angeles, CA  \n",
       "3   SHIELDS for Families, Inc.   48 reviews  Los Angeles, CA  \n",
       "4                 Divergent 3D         None  Los Angeles, CA  "
      ]
     },
     "execution_count": 43,
     "metadata": {},
     "output_type": "execute_result"
    }
   ],
   "source": [
    "pd.read_sql_query('select * from position', con=engine).head()"
   ]
  },
  {
   "cell_type": "code",
   "execution_count": 44,
   "metadata": {},
   "outputs": [
    {
     "data": {
      "text/html": [
       "<div>\n",
       "<style scoped>\n",
       "    .dataframe tbody tr th:only-of-type {\n",
       "        vertical-align: middle;\n",
       "    }\n",
       "\n",
       "    .dataframe tbody tr th {\n",
       "        vertical-align: top;\n",
       "    }\n",
       "\n",
       "    .dataframe thead th {\n",
       "        text-align: right;\n",
       "    }\n",
       "</style>\n",
       "<table border=\"1\" class=\"dataframe\">\n",
       "  <thead>\n",
       "    <tr style=\"text-align: right;\">\n",
       "      <th></th>\n",
       "      <th>position</th>\n",
       "      <th>company</th>\n",
       "      <th>numreview</th>\n",
       "      <th>location</th>\n",
       "    </tr>\n",
       "  </thead>\n",
       "  <tbody>\n",
       "    <tr>\n",
       "      <th>0</th>\n",
       "      <td>Institutional Review Board Analyst I - Office ...</td>\n",
       "      <td>USC</td>\n",
       "      <td>545 reviews</td>\n",
       "      <td>Los Angeles, CA</td>\n",
       "    </tr>\n",
       "    <tr>\n",
       "      <th>1</th>\n",
       "      <td>Analyst - Optimization</td>\n",
       "      <td>The Boston Consulting Group</td>\n",
       "      <td>198 reviews</td>\n",
       "      <td>Los Angeles, CA</td>\n",
       "    </tr>\n",
       "    <tr>\n",
       "      <th>2</th>\n",
       "      <td>Postdoctoral Research Associate</td>\n",
       "      <td>USC</td>\n",
       "      <td>545 reviews</td>\n",
       "      <td>Los Angeles, CA</td>\n",
       "    </tr>\n",
       "    <tr>\n",
       "      <th>3</th>\n",
       "      <td>Research Analyst</td>\n",
       "      <td>SHIELDS for Families, Inc.</td>\n",
       "      <td>48 reviews</td>\n",
       "      <td>Los Angeles, CA</td>\n",
       "    </tr>\n",
       "    <tr>\n",
       "      <th>4</th>\n",
       "      <td>Additive Materials and Process Scientist</td>\n",
       "      <td>Divergent 3D</td>\n",
       "      <td>None</td>\n",
       "      <td>Los Angeles, CA</td>\n",
       "    </tr>\n",
       "  </tbody>\n",
       "</table>\n",
       "</div>"
      ],
      "text/plain": [
       "                                            position  \\\n",
       "0  Institutional Review Board Analyst I - Office ...   \n",
       "1                             Analyst - Optimization   \n",
       "2                    Postdoctoral Research Associate   \n",
       "3                                   Research Analyst   \n",
       "4           Additive Materials and Process Scientist   \n",
       "\n",
       "                       company    numreview         location  \n",
       "0                          USC  545 reviews  Los Angeles, CA  \n",
       "1  The Boston Consulting Group  198 reviews  Los Angeles, CA  \n",
       "2                          USC  545 reviews  Los Angeles, CA  \n",
       "3   SHIELDS for Families, Inc.   48 reviews  Los Angeles, CA  \n",
       "4                 Divergent 3D         None  Los Angeles, CA  "
      ]
     },
     "execution_count": 44,
     "metadata": {},
     "output_type": "execute_result"
    }
   ],
   "source": [
    "pd.read_sql_query('select * from company', con=engine).head()"
   ]
  },
  {
   "cell_type": "code",
   "execution_count": null,
   "metadata": {},
   "outputs": [],
   "source": []
  }
 ],
 "metadata": {
  "kernelspec": {
   "display_name": "Python 3",
   "language": "python",
   "name": "python3"
  },
  "language_info": {
   "codemirror_mode": {
    "name": "ipython",
    "version": 3
   },
   "file_extension": ".py",
   "mimetype": "text/x-python",
   "name": "python",
   "nbconvert_exporter": "python",
   "pygments_lexer": "ipython3",
   "version": "3.7.6"
  }
 },
 "nbformat": 4,
 "nbformat_minor": 4
}
